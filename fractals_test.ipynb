{
 "cells": [
  {
   "cell_type": "code",
   "execution_count": 1,
   "id": "9a78f188-b120-4769-acdf-c6a99e073a46",
   "metadata": {},
   "outputs": [
    {
     "data": {
      "application/vnd.jupyter.widget-view+json": {
       "model_id": "00d6d857ae1e499fbe7212179e090a59",
       "version_major": 2,
       "version_minor": 0
      },
      "text/plain": [
       "interactive(children=(IntSlider(value=5, description='x', max=10), Output()), _dom_classes=('widget-interact',…"
      ]
     },
     "metadata": {},
     "output_type": "display_data"
    }
   ],
   "source": [
    "import numpy as np\n",
    "import matplotlib.pyplot as plt\n",
    "import random\n",
    "import ipywidgets as widgets\n",
    "\n",
    "# Enable interactive plotting in Jupyter\n",
    "%matplotlib widget\n",
    "\n",
    "def generate_koch_snowflake(ax, iterations):\n",
    "    # Generate Koch snowflake\n",
    "    def koch_snowflake(p1, p2, iter):\n",
    "        if iter == 0:\n",
    "            ax.plot(*zip(p1, p2), color='blue')\n",
    "            return\n",
    "        dx = (p2[0] - p1[0]) / 3\n",
    "        dy = (p2[1] - p1[1]) / 3\n",
    "        p3 = (p1[0] + dx, p1[1] + dy)\n",
    "        p4 = (p2[0] - dx, p2[1] - dy)\n",
    "        p5 = (p3[0] + dx * np.cos(np.pi / 3) - dy * np.sin(np.pi / 3),\n",
    "               p3[1] + dx * np.sin(np.pi / 3) + dy * np.cos(np.pi / 3))\n",
    "        koch_snowflake(p1, p3, iter - 1)\n",
    "        koch_snowflake(p3, p5, iter - 1)\n",
    "        koch_snowflake(p5, p4, iter - 1)\n",
    "        koch_snowflake(p4, p2, iter - 1)\n",
    "\n",
    "    # Define the vertices of the initial triangle\n",
    "    p1 = (-1, -np.sqrt(3) / 3)\n",
    "    p2 = (1, -np.sqrt(3) / 3)\n",
    "    p3 = (0, 2 * np.sqrt(3) / 3)\n",
    "    koch_snowflake(p1, p2, iterations)\n",
    "    koch_snowflake(p2, p3, iterations)\n",
    "    koch_snowflake(p3, p1, iterations)\n",
    "\n",
    "def generate_sierpinski(ax, iterations, p1, p2, p3):\n",
    "    if iterations == 0:\n",
    "        triangle = np.array([p1, p2, p3])\n",
    "        ax.fill(triangle[:, 0], triangle[:, 1], color='green')\n",
    "    else:\n",
    "        mid1 = (p1 + p2) / 2\n",
    "        mid2 = (p1 + p3) / 2\n",
    "        mid3 = (p2 + p3) / 2\n",
    "        generate_sierpinski(ax, iterations - 1, p1, mid1, mid2)\n",
    "        generate_sierpinski(ax, iterations - 1, mid1, p2, mid3)\n",
    "        generate_sierpinski(ax, iterations - 1, mid2, mid3, p3)\n",
    "\n",
    "def generate_fractal(fractal_type, iterations):\n",
    "    plt.figure(figsize=(8, 8))\n",
    "    ax = plt.gca()\n",
    "    ax.set_aspect('equal')\n",
    "    ax.set_xlim(-1.5, 1.5)\n",
    "    ax.set_ylim(-1.5, 1.5)\n",
    "    \n",
    "    if fractal_type == 'Koch Snowflake':\n",
    "        generate_koch_snowflake(ax, iterations)\n",
    "        plt.title(f'Koch Snowflake (Seed: {iterations})')\n",
    "    elif fractal_type == 'Sierpinski Triangle':\n",
    "        p1 = np.array([-1, 0])\n",
    "        p2 = np.array([1, 0])\n",
    "        p3 = np.array([0, np.sqrt(3)])\n",
    "        generate_sierpinski(ax, iterations, p1, p2, p3)\n",
    "        plt.title(f'Sierpinski Triangle (Seed: {iterations})')\n",
    "\n",
    "    plt.axis('off')\n",
    "    plt.show()\n",
    "\n",
    "def update_plot(value):\n",
    "    fractal_types = ['Koch Snowflake', 'Sierpinski Triangle']\n",
    "    selected_type = random.choice(fractal_types)  # Randomly choose a fractal\n",
    "    generate_fractal(selected_type, value)\n",
    "\n",
    "# Create interactive widgets\n",
    "# iterations_widget = widgets.IntSlider(value=5, min=1, max=10, step=1, description='Iterations:')\n",
    "# iterations_widget.observe(update_plot, names='value')\n",
    "# iterations_widget.interact(update_plot)\n",
    "\n",
    "# Display widgets and initial plot\n",
    "# display(iterations_widget)\n",
    "# update_plot(5)  # Initial call to generate the fractal\n",
    "\n",
    "@widgets.interact(x=(0, 10, 1))\n",
    "def foo(x):\n",
    "    update_plot(x)\n",
    "    print(f'Slider says: {x}')"
   ]
  },
  {
   "cell_type": "code",
   "execution_count": null,
   "id": "0d21d8eb-4479-4f77-a8bc-d9f417d3968a",
   "metadata": {},
   "outputs": [],
   "source": []
  }
 ],
 "metadata": {
  "kernelspec": {
   "display_name": "OLCF-base (ipykernel)",
   "language": "python",
   "name": "python3"
  },
  "language_info": {
   "codemirror_mode": {
    "name": "ipython",
    "version": 3
   },
   "file_extension": ".py",
   "mimetype": "text/x-python",
   "name": "python",
   "nbconvert_exporter": "python",
   "pygments_lexer": "ipython3",
   "version": "3.11.9"
  }
 },
 "nbformat": 4,
 "nbformat_minor": 5
}
